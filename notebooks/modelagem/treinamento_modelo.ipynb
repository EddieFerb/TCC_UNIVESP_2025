{
 "cells": [
  {
   "cell_type": "code",
   "execution_count": null,
   "metadata": {
    "vscode": {
     "languageId": "plaintext"
    }
   },
   "outputs": [],
   "source": [
    "# treinamento_modelo.ipynb\n",
    "# Este notebook treina um modelo para prever a taxa de evasão.\n",
    "\n",
    "import pandas as pd\n",
    "from sklearn.model_selection import train_test_split\n",
    "from sklearn.ensemble import RandomForestRegressor\n",
    "import joblib\n",
    "\n",
    "# Carregar dados já processados/engenheirados\n",
    "df = pd.read_csv('../../dados/processado/caracteristicas_selecionadas.csv')\n",
    "\n",
    "# Converter variáveis categóricas em dummies\n",
    "df = pd.get_dummies(df, columns=['cidade', 'estado'], drop_first=True)\n",
    "\n",
    "X = df.drop('taxa_evasao', axis=1)\n",
    "y = df['taxa_evasao']\n",
    "\n",
    "# Dividir em treino e teste\n",
    "X_train, X_test, y_train, y_test = train_test_split(X, y, test_size=0.2, random_state=42)\n",
    "\n",
    "# Instanciar e treinar o modelo\n",
    "modelo = RandomForestRegressor(n_estimators=100, random_state=42)\n",
    "modelo.fit(X_train, y_train)\n",
    "\n",
    "# Avaliar\n",
    "score = modelo.score(X_test, y_test)\n",
    "print(f'Score do modelo no conjunto de teste: {score:.2f}')\n",
    "\n",
    "# Salvar o modelo\n",
    "joblib.dump(modelo, '../../modelos/modelos_salvos/modelo_random_forest.pkl')\n",
    "print(\"Modelo salvo em '../../modelos/modelos_salvos/modelo_random_forest.pkl'\")"
   ]
  },
  {
   "cell_type": "code",
   "execution_count": null,
   "metadata": {
    "vscode": {
     "languageId": "plaintext"
    }
   },
   "outputs": [],
   "source": [
    "# treinamento_modelo.ipynb\n",
    "# Este notebook treina um modelo para prever a taxa de evasão.\n",
    "\n",
    "import pandas as pd\n",
    "from sklearn.model_selection import train_test_split\n",
    "from sklearn.ensemble import RandomForestRegressor\n",
    "\n",
    "# Carregar os dados processados\n",
    "df = pd.read_csv('../../dados/processado/caracteristicas_selecionadas.csv')\n",
    "\n",
    "# Codificação de variáveis categóricas\n",
    "df = pd.get_dummies(df, columns=['cidade', 'estado'], drop_first=True)\n",
    "\n",
    "# Separar recursos e alvo\n",
    "X = df.drop('taxa_evasao', axis=1)\n",
    "y = df['taxa_evasao']\n",
    "\n",
    "# Dividir dados em treino e teste\n",
    "X_train, X_test, y_train, y_test = train_test_split(X, y, test_size=0.2)\n",
    "\n",
    "# Instanciar e treinar o modelo\n",
    "modelo = RandomForestRegressor(n_estimators=100)\n",
    "modelo.fit(X_train, y_train)\n",
    "\n",
    "# Avaliar o modelo\n",
    "score = modelo.score(X_test, y_test)\n",
    "print(f'Score do modelo: {score:.2f}')\n",
    "\n",
    "# Salvar o modelo treinado\n",
    "import joblib\n",
    "joblib.dump(modelo, '../../modelos/modelos_salvos/modelo_random_forest.pkl')"
   ]
  }
 ],
 "metadata": {
  "language_info": {
   "name": "python"
  }
 },
 "nbformat": 4,
 "nbformat_minor": 2
}
