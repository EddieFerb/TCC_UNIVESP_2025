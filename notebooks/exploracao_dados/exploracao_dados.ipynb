{
 "cells": [
  {
   "cell_type": "code",
   "execution_count": null,
   "metadata": {},
   "outputs": [
    {
     "data": {
      "text/plain": [
       "Traceback (most recent call last):\n",
       "  File \"/Users/eddieferb/.vscode/extensions/ms-python.python-2025.0.0-darwin-arm64/python_files/python_server.py\", line 133, in exec_user_input\n",
       "    retval = callable_(user_input, user_globals)\n",
       "  File \"<string>\", line 9, in <module>\n",
       "  File \"/Users/eddieferb/informacao/venv/lib/python3.13/site-packages/pandas/io/parsers/readers.py\", line 1026, in read_csv\n",
       "    return _read(filepath_or_buffer, kwds)\n",
       "  File \"/Users/eddieferb/informacao/venv/lib/python3.13/site-packages/pandas/io/parsers/readers.py\", line 620, in _read\n",
       "    parser = TextFileReader(filepath_or_buffer, **kwds)\n",
       "  File \"/Users/eddieferb/informacao/venv/lib/python3.13/site-packages/pandas/io/parsers/readers.py\", line 1620, in __init__\n",
       "    self._engine = self._make_engine(f, self.engine)\n",
       "                   ~~~~~~~~~~~~~~~~~^^^^^^^^^^^^^^^^\n",
       "  File \"/Users/eddieferb/informacao/venv/lib/python3.13/site-packages/pandas/io/parsers/readers.py\", line 1880, in _make_engine\n",
       "    self.handles = get_handle(\n",
       "                   ~~~~~~~~~~^\n",
       "        f,\n",
       "        ^^\n",
       "    ...<6 lines>...\n",
       "        storage_options=self.options.get(\"storage_options\", None),\n",
       "        ^^^^^^^^^^^^^^^^^^^^^^^^^^^^^^^^^^^^^^^^^^^^^^^^^^^^^^^^^^\n",
       "    )\n",
       "    ^\n",
       "  File \"/Users/eddieferb/informacao/venv/lib/python3.13/site-packages/pandas/io/common.py\", line 873, in get_handle\n",
       "    handle = open(\n",
       "        handle,\n",
       "    ...<3 lines>...\n",
       "        newline=\"\",\n",
       "    )\n",
       "FileNotFoundError: [Errno 2] No such file or directory: '../../dados/processado/dados_cursos_tratado.csv'\n",
       "\n"
      ]
     },
     "metadata": {},
     "output_type": "display_data"
    }
   ],
   "source": [
    "# exploracao_dados.ipynb\n",
    "# Este notebook realiza a análise exploratória dos dados coletados (exemplo).\n",
    "\n",
    "import pandas as pd\n",
    "import matplotlib.pyplot as plt\n",
    "import seaborn as sns\n",
    "\n",
    "# Carregar os dados brutos ou limpos, dependendo do fluxo\n",
    "df = pd.read_csv('../../dados/processado/dados_cursos_tratado.csv') \n",
    "# ou\n",
    "df = pd.read_csv('../../dados/processado/dados_ies_tratado.csv')\n",
    "\n",
    "# Visualizar as primeiras linhas\n",
    "print(df.head())\n",
    "\n",
    "# Informações sobre o DataFrame\n",
    "df.info()\n",
    "\n",
    "# Estatísticas descritivas\n",
    "print(df.describe())\n",
    "\n",
    "# Verificar valores ausentes\n",
    "print(df.isnull().sum())\n",
    "\n",
    "# Análise da distribuição da \"taxa_evasao\" (exemplo)\n",
    "plt.figure(figsize=(10,6))\n",
    "sns.histplot(df['taxa_evasao'], bins=20, kde=True)\n",
    "plt.title('Distribuição da Taxa de Evasão')\n",
    "plt.show()\n",
    "\n",
    "# Matriz de correlação (se fizer sentido com colunas numéricas)\n",
    "plt.figure(figsize=(8,6))\n",
    "sns.heatmap(df.corr(), annot=True, cmap='coolwarm')\n",
    "plt.title('Matriz de Correlação')\n",
    "plt.show()"
   ]
  },
  {
   "cell_type": "code",
   "execution_count": null,
   "metadata": {
    "vscode": {
     "languageId": "plaintext"
    }
   },
   "outputs": [],
   "source": [
    "# exploracao_dados.ipynb\n",
    "# Este notebook realiza a análise exploratória dos dados coletados.\n",
    "\n",
    "import pandas as pd\n",
    "import matplotlib.pyplot as plt\n",
    "import seaborn as sns\n",
    "\n",
    "# Carregar os dados brutos\n",
    "df = pd.read_csv('../../dados/bruto/ies_dados_brutos.csv')\n",
    "\n",
    "# Visualizar as primeiras linhas\n",
    "df.head()\n",
    "\n",
    "# Informações sobre o DataFrame\n",
    "df.info()\n",
    "\n",
    "# Estatísticas descritivas\n",
    "df.describe()\n",
    "\n",
    "# Verificar valores ausentes\n",
    "df.isnull().sum()\n",
    "\n",
    "# Análise da distribuição da taxa de evasão\n",
    "plt.figure(figsize=(10,6))\n",
    "sns.histplot(df['taxa_evasao'], bins=20, kde=True)\n",
    "plt.title('Distribuição da Taxa de Evasão')\n",
    "plt.show()\n",
    "\n",
    "# Correlações entre as variáveis numéricas\n",
    "plt.figure(figsize=(8,6))\n",
    "sns.heatmap(df.corr(), annot=True, cmap='coolwarm')\n",
    "plt.title('Matriz de Correlação')\n",
    "plt.show()"
   ]
  }
 ],
 "metadata": {
  "language_info": {
   "name": "python"
  }
 },
 "nbformat": 4,
 "nbformat_minor": 2
}
