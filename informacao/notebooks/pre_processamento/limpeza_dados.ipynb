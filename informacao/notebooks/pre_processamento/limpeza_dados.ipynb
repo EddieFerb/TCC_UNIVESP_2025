{
 "cells": [
  {
   "cell_type": "code",
   "execution_count": null,
   "metadata": {
    "vscode": {
     "languageId": "plaintext"
    }
   },
   "outputs": [],
   "source": [
    "# limpeza_dados.ipynb\n",
    "# Este notebook realiza a limpeza e preparação dos dados para modelagem.\n",
    "\n",
    "import pandas as pd\n",
    "\n",
    "# Carregar os dados brutos\n",
    "df = pd.read_csv('../../dados/bruto/ies_dados_brutos.csv')\n",
    "\n",
    "# Remover duplicatas\n",
    "df = df.drop_duplicates()\n",
    "\n",
    "# Tratar valores ausentes\n",
    "df['taxa_evasao'].fillna(df['taxa_evasao'].mean(), inplace=True)\n",
    "df['numero_alunos'].fillna(df['numero_alunos'].median(), inplace=True)\n",
    "\n",
    "# Converter tipos de dados\n",
    "df['numero_alunos'] = df['numero_alunos'].astype(int)\n",
    "df['taxa_evasao'] = df['taxa_evasao'].astype(float)\n",
    "\n",
    "# Salvar dados limpos\n",
    "df.to_csv('../../dados/processado/ies_dados_limpos.csv', index=False)"
   ]
  }
 ],
 "metadata": {
  "language_info": {
   "name": "python"
  }
 },
 "nbformat": 4,
 "nbformat_minor": 2
}
