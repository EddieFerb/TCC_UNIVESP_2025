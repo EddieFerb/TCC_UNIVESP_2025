{
 "cells": [
  {
   "cell_type": "code",
   "execution_count": null,
   "metadata": {
    "vscode": {
     "languageId": "plaintext"
    }
   },
   "outputs": [],
   "source": [
    "# visualizacao_resultados.ipynb\n",
    "# Este notebook analisa os resultados do modelo e gera visualizações.\n",
    "\n",
    "import pandas as pd\n",
    "import matplotlib.pyplot as plt\n",
    "import seaborn as sns\n",
    "from sklearn.metrics import mean_squared_error\n",
    "\n",
    "# Carregar dados de teste e previsões\n",
    "df = pd.read_csv('../../dados/processado/caracteristicas_selecionadas.csv')\n",
    "df = pd.get_dummies(df, columns=['cidade', 'estado'], drop_first=True)\n",
    "\n",
    "X = df.drop('taxa_evasao', axis=1)\n",
    "y = df['taxa_evasao']\n",
    "\n",
    "# Carregar modelo treinado\n",
    "import joblib\n",
    "modelo = joblib.load('../../modelos/modelos_salvos/modelo_random_forest.pkl')\n",
    "\n",
    "# Previsões\n",
    "y_pred = modelo.predict(X)\n",
    "\n",
    "# Calcular o erro médio quadrático\n",
    "mse = mean_squared_error(y, y_pred)\n",
    "print(f'Erro Médio Quadrático (MSE): {mse:.2f}')\n",
    "\n",
    "# Gráfico de dispersão entre valores reais e previstos\n",
    "plt.figure(figsize=(10,6))\n",
    "sns.scatterplot(x=y, y=y_pred)\n",
    "plt.xlabel('Valores Reais')\n",
    "plt.ylabel('Valores Previstos')\n",
    "plt.title('Valores Reais vs. Valores Previstos')\n",
    "plt.plot([y.min(), y.max()], [y.min(), y.max()], 'r--')\n",
    "plt.show()"
   ]
  }
 ],
 "metadata": {
  "language_info": {
   "name": "python"
  }
 },
 "nbformat": 4,
 "nbformat_minor": 2
}
