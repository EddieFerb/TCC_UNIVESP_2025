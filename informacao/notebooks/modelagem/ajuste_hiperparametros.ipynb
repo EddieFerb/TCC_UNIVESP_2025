{
 "cells": [
  {
   "cell_type": "code",
   "execution_count": null,
   "metadata": {
    "vscode": {
     "languageId": "plaintext"
    }
   },
   "outputs": [],
   "source": [
    "# ajuste_hiperparametros.ipynb\n",
    "# Este notebook realiza a busca pelos melhores hiperparâmetros do modelo.\n",
    "\n",
    "import pandas as pd\n",
    "from sklearn.model_selection import GridSearchCV\n",
    "from sklearn.ensemble import RandomForestRegressor\n",
    "\n",
    "# Carregar os dados\n",
    "df = pd.read_csv('../../dados/processado/caracteristicas_selecionadas.csv')\n",
    "df = pd.get_dummies(df, columns=['cidade', 'estado'], drop_first=True)\n",
    "\n",
    "X = df.drop('taxa_evasao', axis=1)\n",
    "y = df['taxa_evasao']\n",
    "\n",
    "# Definir o modelo e os hiperparâmetros a serem testados\n",
    "modelo = RandomForestRegressor(random_state=42)\n",
    "parametros = {\n",
    "    'n_estimators': [50, 100, 150],\n",
    "    'max_depth': [None, 10, 20],\n",
    "    'min_samples_split': [2, 5, 10]\n",
    "}\n",
    "\n",
    "# Configurar o GridSearchCV\n",
    "grid_search = GridSearchCV(estimator=modelo, param_grid=parametros, cv=5, n_jobs=-1)\n",
    "\n",
    "# Executar a busca\n",
    "grid_search.fit(X, y)\n",
    "\n",
    "# Melhor combinação de hiperparâmetros\n",
    "print(\"Melhores hiperparâmetros:\", grid_search.best_params_)\n",
    "\n",
    "# Melhor score\n",
    "print(\"Melhor score:\", grid_search.best_score_)"
   ]
  }
 ],
 "metadata": {
  "language_info": {
   "name": "python"
  }
 },
 "nbformat": 4,
 "nbformat_minor": 2
}
