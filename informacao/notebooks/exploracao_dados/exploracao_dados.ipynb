{
 "cells": [
  {
   "cell_type": "code",
   "execution_count": null,
   "metadata": {
    "vscode": {
     "languageId": "plaintext"
    }
   },
   "outputs": [],
   "source": [
    "# exploracao_dados.ipynb\n",
    "# Este notebook realiza a análise exploratória dos dados coletados.\n",
    "\n",
    "import pandas as pd\n",
    "import matplotlib.pyplot as plt\n",
    "import seaborn as sns\n",
    "\n",
    "# Carregar os dados brutos\n",
    "df = pd.read_csv('../../dados/bruto/ies_dados_brutos.csv')\n",
    "\n",
    "# Visualizar as primeiras linhas\n",
    "df.head()\n",
    "\n",
    "# Informações sobre o DataFrame\n",
    "df.info()\n",
    "\n",
    "# Estatísticas descritivas\n",
    "df.describe()\n",
    "\n",
    "# Verificar valores ausentes\n",
    "df.isnull().sum()\n",
    "\n",
    "# Análise da distribuição da taxa de evasão\n",
    "plt.figure(figsize=(10,6))\n",
    "sns.histplot(df['taxa_evasao'], bins=20, kde=True)\n",
    "plt.title('Distribuição da Taxa de Evasão')\n",
    "plt.show()\n",
    "\n",
    "# Correlações entre as variáveis numéricas\n",
    "plt.figure(figsize=(8,6))\n",
    "sns.heatmap(df.corr(), annot=True, cmap='coolwarm')\n",
    "plt.title('Matriz de Correlação')\n",
    "plt.show()"
   ]
  }
 ],
 "metadata": {
  "language_info": {
   "name": "python"
  }
 },
 "nbformat": 4,
 "nbformat_minor": 2
}
